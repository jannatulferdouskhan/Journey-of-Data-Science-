{
 "cells": [
  {
   "cell_type": "code",
   "execution_count": null,
   "id": "f3d75d87",
   "metadata": {},
   "outputs": [],
   "source": [
    "import pandas as pd\n",
    "\n",
    "city1=['Rajbari','Faridpur','Dhaka']\n",
    "df=pd.DataFrame(city1)\n",
    "df  #Prining a simple list \n",
    "\n",
    "\n",
    "\n",
    "\n",
    "\n",
    "\n"
   ]
  },
  {
   "cell_type": "code",
   "execution_count": null,
   "id": "14dc29b5",
   "metadata": {},
   "outputs": [],
   "source": [
    "city2=['Sylhet','Sunamganj','Rangamati']\n",
    "\n",
    "df2= pd.DataFrame(zip(city1,city2)) # Zipping both lists \n",
    "df2"
   ]
  },
  {
   "cell_type": "code",
   "execution_count": null,
   "id": "a9f37b78",
   "metadata": {},
   "outputs": [],
   "source": [
    "df3= pd.DataFrame(zip(city1,city2),columns=('The city Ive visisted','The city Ive not visited')) #Creating the name of columns \n",
    "df3"
   ]
  },
  {
   "cell_type": "code",
   "execution_count": null,
   "id": "74195ab1",
   "metadata": {},
   "outputs": [],
   "source": [
    "df4= pd.DataFrame(zip(city1,city2),columns=('The city Ive visisted','The city Ive not visited'),index=('City_1','City_2','City_3'))\n",
    "#Creating column names and index name of the table\n",
    "df4\n"
   ]
  },
  {
   "cell_type": "code",
   "execution_count": null,
   "id": "36d8b2c2",
   "metadata": {},
   "outputs": [
    {
     "data": {
      "text/plain": [
       "(3, 2)"
      ]
     },
     "execution_count": 13,
     "metadata": {},
     "output_type": "execute_result"
    }
   ],
   "source": [
    "df4.shape  # Showing the shape of a Data Frame \n"
   ]
  },
  {
   "cell_type": "code",
   "execution_count": null,
   "id": "8758a4d1",
   "metadata": {},
   "outputs": [],
   "source": [
    "dict1={\n",
    "    'City1':city1,\n",
    "    'City2':city2\n",
    "   \n",
    "}\n",
    "df5=pd.DataFrame(dict1)\n",
    "df5"
   ]
  },
  {
   "cell_type": "code",
   "execution_count": null,
   "id": "37e8af34",
   "metadata": {},
   "outputs": [],
   "source": [
    "#Importing csv file \n",
    "import pandas as pd \n",
    "df6= pd.read_csv('phone_screen_time_large.csv')   #xcel file hole   df =pd.read_xcel\n",
    "df6"
   ]
  },
  {
   "cell_type": "code",
   "execution_count": null,
   "id": "e47db366",
   "metadata": {},
   "outputs": [],
   "source": [
    "import pandas as pd \n",
    "df7 = pd.read_excel('phone_screen_time_large.xlsx')\n",
    "df7 "
   ]
  },
  {
   "cell_type": "code",
   "execution_count": null,
   "id": "1b8b1454",
   "metadata": {},
   "outputs": [],
   "source": [
    "import pandas as pd \n",
    "df6.head()"
   ]
  },
  {
   "cell_type": "code",
   "execution_count": null,
   "metadata": {},
   "outputs": [],
   "source": [
    "df6.tail()"
   ]
  },
  {
   "cell_type": "code",
   "execution_count": null,
   "id": "654c91be",
   "metadata": {},
   "outputs": [],
   "source": [
    "df7=df6.head(10)\n",
    "df7"
   ]
  },
  {
   "cell_type": "code",
   "execution_count": null,
   "id": "2f8cab91",
   "metadata": {},
   "outputs": [],
   "source": [
    "df7.values"
   ]
  },
  {
   "cell_type": "code",
   "execution_count": null,
   "id": "45b5bd1f",
   "metadata": {},
   "outputs": [],
   "source": [
    "df7.columns"
   ]
  },
  {
   "cell_type": "code",
   "execution_count": null,
   "id": "7beb9775",
   "metadata": {},
   "outputs": [],
   "source": [
    "#Specefic columns er jonno \n",
    "df7.Date  \n"
   ]
  },
  {
   "cell_type": "code",
   "execution_count": null,
   "id": "7bf8e1e7",
   "metadata": {},
   "outputs": [],
   "source": [
    "#Jodi space thake majhe taile specefic columns \n",
    "df7['Social Media (hrs)'] # one dimentional \n",
    "df7[['Social Media (hrs)']] #2 dimentional output "
   ]
  },
  {
   "cell_type": "code",
   "execution_count": null,
   "id": "605a825e",
   "metadata": {},
   "outputs": [],
   "source": [
    "print( df7[['Social Media (hrs)']].head(6) ) \n",
    "print(df7.Date.head(6))"
   ]
  },
  {
   "cell_type": "code",
   "execution_count": null,
   "id": "004fe147",
   "metadata": {},
   "outputs": [],
   "source": [
    "#Multiple columns \n",
    "print( df7[['Date','Social Media (hrs)']].head(6) )"
   ]
  },
  {
   "cell_type": "code",
   "execution_count": null,
   "id": "aadce758",
   "metadata": {},
   "outputs": [],
   "source": [
    "#Value short korte \n",
    "df7['Social Media (hrs)'].sort_values()  "
   ]
  },
  {
   "cell_type": "code",
   "execution_count": null,
   "id": "609488a3",
   "metadata": {},
   "outputs": [],
   "source": [
    "#order cng korte \n",
    "df7['Social Media (hrs)'].sort_values(ascending=False) \n"
   ]
  },
  {
   "cell_type": "code",
   "execution_count": null,
   "id": "cf24393c",
   "metadata": {},
   "outputs": [],
   "source": [
    "# Statical Analysis \n",
    "df7.describe()    \n",
    "\n"
   ]
  },
  {
   "cell_type": "code",
   "execution_count": null,
   "id": "f6272d5c",
   "metadata": {},
   "outputs": [],
   "source": [
    "# To Show heat map it is a seabor library topic not pandas \n",
    "import seaborn as sns\n",
    "import pandas as pd\n",
    "df8=  pd.read_excel('apx.xlsx') \n",
    "sns.heatmap(df8.corr(),annot=True)\n"
   ]
  },
  {
   "cell_type": "code",
   "execution_count": null,
   "id": "36c8b10d",
   "metadata": {},
   "outputs": [],
   "source": [
    "df8 "
   ]
  },
  {
   "cell_type": "code",
   "execution_count": null,
   "id": "0d5ee2a7",
   "metadata": {},
   "outputs": [],
   "source": [
    "# Subseting rows \n",
    "df8[df8['Entertainment (hrs)'] > 2]"
   ]
  },
  {
   "cell_type": "code",
   "execution_count": null,
   "id": "db69f471",
   "metadata": {},
   "outputs": [],
   "source": [
    "# For string values \n",
    "df8[['column_name'] == 'string_value']  "
   ]
  },
  {
   "cell_type": "code",
   "execution_count": null,
   "id": "f75838bb",
   "metadata": {},
   "outputs": [],
   "source": [
    "## For string values more then one condition \n",
    "df8[['column_name'] == 'string_value' | ['Another_column_name'] == 'Another_String_value'] \n"
   ]
  },
  {
   "cell_type": "code",
   "execution_count": null,
   "id": "409524c7",
   "metadata": {},
   "outputs": [],
   "source": [
    "# Exploratory Data Analysis\n",
    "import pandas as pd \n",
    "from ydata_profiling import ProfileReport "
   ]
  },
  {
   "cell_type": "code",
   "execution_count": null,
   "id": "e5b9f2e5",
   "metadata": {},
   "outputs": [],
   "source": [
    "import pandas as pd\n",
    "import numpy as np\n",
    "from ydata_profiling import ProfileReport\n",
    "import os\n",
    "\n",
    "# একটি ডামি ডেটা তৈরি করা হচ্ছে\n",
    "data = np.random.rand(100, 5)\n",
    "df = pd.DataFrame(data, columns=['A', 'B', 'C', 'D', 'E'])\n",
    "\n",
    "# প্রোফাইল রিপোর্ট তৈরি করা\n",
    "profile = ProfileReport(\n",
    "    df, \n",
    "    title=\"Installation Test Report\", \n",
    "    html={'style': {'full_width': True}},\n",
    "    minimal=True \n",
    ")\n",
    "\n",
    "# রিপোর্টটি 'test_report.html' নামে সেভ করা হচ্ছে\n",
    "report_filename = \"test_report.html\"\n",
    "profile.to_file(report_filename)\n",
    "\n",
    "print(f\"\\n--- Output Check ---\")\n",
    "print(f\"Report saved successfully: {os.path.abspath(report_filename)}\")\n",
    "print(f\"You can open this file in your web browser to view the report.\")"
   ]
  },
  {
   "cell_type": "code",
   "execution_count": null,
   "id": "52dabf95",
   "metadata": {},
   "outputs": [],
   "source": [
    "# Webbrowser e output show korbe \n",
    "\n",
    "import pandas as pd \n",
    "from ydata_profiling import ProfileReport \n",
    "import webbrowser as wb\n",
    "url='https://raw.githubusercontent.com/rashakil-ds/public-Datasets/refs/heads/main/credit.csv'\n",
    "df9= pd.read_csv(url)\n",
    "df9.head()\n",
    "profile = ProfileReport(df9)\n",
    "profile.to_file(\"credit_report.html\")\n",
    "wb.open(\"credit_report.html\")\n"
   ]
  },
  {
   "cell_type": "code",
   "execution_count": null,
   "id": "fe8d6718",
   "metadata": {},
   "outputs": [],
   "source": [
    "# VS Code Jupyter cell direct show korbe \n",
    "import pandas as pd\n",
    "from ydata_profiling import ProfileReport\n",
    "\n",
    "url = \"https://raw.githubusercontent.com/rashakil-ds/public-Datasets/refs/heads/main/credit.csv\"\n",
    "df9 = pd.read_csv(url)\n",
    "\n",
    "profile = ProfileReport(df9, explorative=True, title=\"Pandas Profiling Report\")\n",
    "\n",
    "\n",
    "profile"
   ]
  },
  {
   "cell_type": "code",
   "execution_count": null,
   "id": "8daf824e",
   "metadata": {},
   "outputs": [],
   "source": [
    "#Google sheet import \n",
    "# Cloud console a project create kore , sheet api ar drive api enable kore drive er \"google sheet\" share korte hobe Cloud console console project email a viewer select kore\n",
    "# tarpor file path ar link niye code a kaj korte hobe   \n",
    "import pandas as pd \n",
    "import gspread \n",
    "gc = gspread.service_account(filename=\"C:\\\\Users\\\\ASUS\\\\Downloads\\\\smooth-copilot-473522-e8-137720d9ed1e.json\")\n",
    "gc\n",
    "sheet=gc.open_by_url(\"https://docs.google.com/spreadsheets/d/1NEWf0taUVuUQkTgeQA0Y80FK2ZsLUtSSvRgqIixfB48/edit?usp=sharing\")\n",
    "sheet \n",
    "ws = sheet.worksheet(\"Sheet1\")\n",
    "df10=pd.DataFrame(ws.get_all_records())\n",
    "df10 "
   ]
  }
 ],
 "metadata": {
  "kernelspec": {
   "display_name": "Python 3",
   "language": "python",
   "name": "python3"
  },
  "language_info": {
   "codemirror_mode": {
    "name": "ipython",
    "version": 3
   },
   "file_extension": ".py",
   "mimetype": "text/x-python",
   "name": "python",
   "nbconvert_exporter": "python",
   "pygments_lexer": "ipython3",
   "version": "3.13.5"
  }
 },
 "nbformat": 4,
 "nbformat_minor": 5
}

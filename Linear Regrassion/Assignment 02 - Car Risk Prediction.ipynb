{
 "cells": [
  {
   "cell_type": "code",
   "execution_count": 15,
   "id": "8695409b",
   "metadata": {},
   "outputs": [
    {
     "name": "stdout",
     "output_type": "stream",
     "text": [
      "The Predicted Score Of 250 speed risk is [[80.50925669]]percent\n",
      "The R2 score is: 0.8260542394120296\n",
      "The MAE is: 10.740343292130891\n",
      "The MSE is: 208.3916597380042\n"
     ]
    },
    {
     "name": "stderr",
     "output_type": "stream",
     "text": [
      "c:\\Users\\ASUS\\AppData\\Local\\Programs\\Python\\Python313\\Lib\\site-packages\\sklearn\\utils\\validation.py:2749: UserWarning: X does not have valid feature names, but LinearRegression was fitted with feature names\n",
      "  warnings.warn(\n"
     ]
    }
   ],
   "source": [
    "import pandas as pd \n",
    "from matplotlib import pyplot as plt \n",
    "from sklearn.linear_model import LinearRegression \n",
    "from sklearn.metrics import mean_absolute_error, mean_squared_error\n",
    "\n",
    "df= pd.read_csv(\"car driving risk analysis.csv\")\n",
    "x = df.drop(\"risk\", axis=1)\n",
    "y = df[[\"risk\"]]\n",
    "reg = LinearRegression()\n",
    "reg.fit(x,y)\n",
    "df['Predected_Risk'] = reg.predict(x) \n",
    "df.head()\n",
    "a=reg.predict([[250]])\n",
    "print(f\"The Predicted Score Of 250 speed risk is {a}percent\")\n",
    "r2=reg.score(x,y)\n",
    "print(f\"The R2 score is: {r2}\")\n",
    "\n",
    "#MAE Score \n",
    "mae= mean_absolute_error(df[\"risk\"],df['Predected_Risk'])  \n",
    "print(f\"The MAE is: {mae}\")\n",
    "\n",
    "# Mse Score \n",
    "mse= mean_squared_error(df[\"risk\"],df['Predected_Risk'])  \n",
    "print(f\"The MSE is: {mse}\")\n",
    "\n"
   ]
  }
 ],
 "metadata": {
  "kernelspec": {
   "display_name": "Python 3",
   "language": "python",
   "name": "python3"
  },
  "language_info": {
   "codemirror_mode": {
    "name": "ipython",
    "version": 3
   },
   "file_extension": ".py",
   "mimetype": "text/x-python",
   "name": "python",
   "nbconvert_exporter": "python",
   "pygments_lexer": "ipython3",
   "version": "3.13.5"
  }
 },
 "nbformat": 4,
 "nbformat_minor": 5
}
